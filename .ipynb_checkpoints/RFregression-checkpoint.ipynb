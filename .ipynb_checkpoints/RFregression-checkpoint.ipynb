{
 "cells": [
  {
   "cell_type": "code",
   "execution_count": 1,
   "id": "084ea3bf",
   "metadata": {},
   "outputs": [],
   "source": [
    "import importlib\n",
    "import utils.helper as helper\n",
    "importlib.reload(helper)\n",
    "from utils.helper import read_excel\n",
    "from utils.helper import draw_hex_contour_plot, show_joint_plots, draw_heatmap\n",
    "import matplotlib.pyplot as plt\n",
    "from utils.helper import create_cross_validation"
   ]
  },
  {
   "cell_type": "code",
   "execution_count": 2,
   "id": "8b9c6b2d",
   "metadata": {},
   "outputs": [],
   "source": [
    "import pickle as pkl\n",
    "with open(\"ten_fold_input.pkl\", \"rb\") as f:\n",
    "    ten_fold_inputs = pkl.load(f)"
   ]
  },
  {
   "cell_type": "code",
   "execution_count": 3,
   "id": "5d436ffd",
   "metadata": {},
   "outputs": [],
   "source": [
    "# ridge_regression results\n",
    "import utils.model\n",
    "importlib.reload(utils.model)\n",
    "from utils.model import RidgeRegressionModel\n",
    "from utils.model import RandomForestModel\n",
    "from utils.model import SVMRegressor\n",
    "from utils.model import XGBregressor\n",
    "from utils.model import ANNregressor"
   ]
  },
  {
   "cell_type": "code",
   "execution_count": 4,
   "id": "1bb9ab8d",
   "metadata": {},
   "outputs": [],
   "source": [
    "rfregression = RandomForestModel(ten_fold_inputs)\n",
    "rfregression.fit()\n",
    "rf_regression_results = rfregression.get_results()"
   ]
  },
  {
   "cell_type": "code",
   "execution_count": 5,
   "id": "8a40972a",
   "metadata": {},
   "outputs": [
    {
     "name": "stdout",
     "output_type": "stream",
     "text": [
      "dict_keys(['RMSE', 'RMAE', 'R2', 'RSR', 'MAPE', 'NMBE'])\n"
     ]
    }
   ],
   "source": [
    "print(rf_regression_results.keys())"
   ]
  },
  {
   "cell_type": "code",
   "execution_count": 6,
   "id": "fa518f61",
   "metadata": {},
   "outputs": [],
   "source": [
    "# save ridge_regression results\n",
    "import os\n",
    "import pandas as pd\n",
    "save_path = \"results/random_forest_regression\"\n",
    "if not os.path.exists(save_path):\n",
    "    os.makedirs(save_path, exist_ok=True)\n",
    "\n",
    "\n",
    "df = pd.DataFrame()\n",
    "for k, v in rf_regression_results.items():\n",
    "    df[k] = v\n",
    "\n",
    "df.to_csv(f\"{save_path}/results_summary.csv\")"
   ]
  },
  {
   "cell_type": "code",
   "execution_count": 7,
   "id": "cb82faae",
   "metadata": {},
   "outputs": [
    {
     "ename": "NameError",
     "evalue": "name 'ridgeregression' is not defined",
     "output_type": "error",
     "traceback": [
      "\u001b[0;31m---------------------------------------------------------------------------\u001b[0m",
      "\u001b[0;31mNameError\u001b[0m                                 Traceback (most recent call last)",
      "Cell \u001b[0;32mIn[7], line 1\u001b[0m\n\u001b[0;32m----> 1\u001b[0m prediction \u001b[38;5;241m=\u001b[39m ridgeregression\u001b[38;5;241m.\u001b[39mget_predictions()\n\u001b[1;32m      2\u001b[0m \u001b[38;5;28mprint\u001b[39m(\u001b[38;5;28mlen\u001b[39m(prediction))\n",
      "\u001b[0;31mNameError\u001b[0m: name 'ridgeregression' is not defined"
     ]
    }
   ],
   "source": [
    "prediction = rfregression.get_predictions()\n",
    "print(len(prediction))"
   ]
  },
  {
   "cell_type": "code",
   "execution_count": null,
   "id": "d9ea5834",
   "metadata": {},
   "outputs": [],
   "source": [
    "df = pd.DataFrame()\n",
    "for i in range(len(prediction)):\n",
    "    df[f\"{i}_fold\"] = prediction[i]\n",
    "df.to_csv(f\"{save_path}/results.csv\")"
   ]
  }
 ],
 "metadata": {
  "kernelspec": {
   "display_name": "Python 3 (ipykernel)",
   "language": "python",
   "name": "python3"
  },
  "language_info": {
   "codemirror_mode": {
    "name": "ipython",
    "version": 3
   },
   "file_extension": ".py",
   "mimetype": "text/x-python",
   "name": "python",
   "nbconvert_exporter": "python",
   "pygments_lexer": "ipython3",
   "version": "3.11.5"
  }
 },
 "nbformat": 4,
 "nbformat_minor": 5
}
