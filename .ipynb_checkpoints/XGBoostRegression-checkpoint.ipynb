{
 "cells": [
  {
   "cell_type": "code",
   "execution_count": 1,
   "id": "2d87a16d",
   "metadata": {},
   "outputs": [],
   "source": [
    "import importlib\n",
    "import utils.helper as helper\n",
    "importlib.reload(helper)\n",
    "from utils.helper import read_excel\n",
    "from utils.helper import draw_hex_contour_plot, show_joint_plots, draw_heatmap\n",
    "import matplotlib.pyplot as plt\n",
    "from utils.helper import create_cross_validation"
   ]
  },
  {
   "cell_type": "code",
   "execution_count": 2,
   "id": "ec09a646",
   "metadata": {},
   "outputs": [],
   "source": [
    "import pickle as pkl\n",
    "with open(\"ten_fold_input.pkl\", \"rb\") as f:\n",
    "    ten_fold_inputs = pkl.load(f)"
   ]
  },
  {
   "cell_type": "code",
   "execution_count": 3,
   "id": "e03c2b51",
   "metadata": {},
   "outputs": [],
   "source": [
    "# ridge_regression results\n",
    "import utils.model\n",
    "importlib.reload(utils.model)\n",
    "from utils.model import RidgeRegressionModel\n",
    "from utils.model import RandomForestModel\n",
    "from utils.model import SVMRegressor\n",
    "from utils.model import XGBregressor\n",
    "from utils.model import ANNregressor"
   ]
  },
  {
   "cell_type": "code",
   "execution_count": 4,
   "id": "ab57980e",
   "metadata": {},
   "outputs": [],
   "source": [
    "regressor = XGBregressor(ten_fold_inputs)\n",
    "regressor.fit()\n",
    "regressor_results = regressor.get_results()"
   ]
  },
  {
   "cell_type": "code",
   "execution_count": 5,
   "id": "727ca671",
   "metadata": {},
   "outputs": [
    {
     "name": "stdout",
     "output_type": "stream",
     "text": [
      "dict_keys(['RMSE', 'RMAE', 'R2', 'RSR', 'MAPE', 'NMBE'])\n"
     ]
    }
   ],
   "source": [
    "print(regressor_results.keys())"
   ]
  },
  {
   "cell_type": "code",
   "execution_count": 6,
   "id": "3ef95042",
   "metadata": {},
   "outputs": [],
   "source": [
    "# save ridge_regression results\n",
    "import os\n",
    "import pandas as pd\n",
    "save_path = \"results/xgboost_regression\"\n",
    "if not os.path.exists(save_path):\n",
    "    os.makedirs(save_path, exist_ok=True)\n",
    "\n",
    "\n",
    "df = pd.DataFrame()\n",
    "for k, v in regressor_results.items():\n",
    "    df[k] = v\n",
    "\n",
    "df.to_csv(f\"{save_path}/results_summary.csv\")"
   ]
  },
  {
   "cell_type": "code",
   "execution_count": 7,
   "id": "66f6f960",
   "metadata": {},
   "outputs": [
    {
     "name": "stdout",
     "output_type": "stream",
     "text": [
      "10\n"
     ]
    }
   ],
   "source": [
    "prediction = regressor.get_predictions()\n",
    "print(len(prediction))"
   ]
  },
  {
   "cell_type": "code",
   "execution_count": null,
   "id": "b6d31506",
   "metadata": {},
   "outputs": [],
   "source": [
    "df = pd.DataFrame()\n",
    "for i in range(len(prediction)):\n",
    "    df[f\"{i}_fold\"] = prediction[i]\n",
    "df.to_csv(f\"{save_path}/results.csv\")"
   ]
  }
 ],
 "metadata": {
  "kernelspec": {
   "display_name": "Python 3 (ipykernel)",
   "language": "python",
   "name": "python3"
  },
  "language_info": {
   "codemirror_mode": {
    "name": "ipython",
    "version": 3
   },
   "file_extension": ".py",
   "mimetype": "text/x-python",
   "name": "python",
   "nbconvert_exporter": "python",
   "pygments_lexer": "ipython3",
   "version": "3.11.5"
  }
 },
 "nbformat": 4,
 "nbformat_minor": 5
}
