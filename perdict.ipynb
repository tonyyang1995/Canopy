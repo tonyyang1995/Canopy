{
 "cells": [
  {
   "cell_type": "code",
   "execution_count": 1,
   "id": "5c40a5a8-bb27-4560-aabe-b19a7146e7dc",
   "metadata": {},
   "outputs": [],
   "source": [
    "import yaml\n",
    "import seaborn as sns\n",
    "import pandas as pd\n",
    "import copy"
   ]
  },
  {
   "cell_type": "code",
   "execution_count": 2,
   "id": "1f74baf7-d35f-4d2c-bfee-c762316d075c",
   "metadata": {},
   "outputs": [],
   "source": [
    "from utils.helper import * \n",
    "from models.build_model import *"
   ]
  },
  {
   "cell_type": "code",
   "execution_count": 3,
   "id": "23432ea2-8427-4959-a52a-4cca6bcb8b5d",
   "metadata": {},
   "outputs": [],
   "source": [
    "def remove_nano_from_input(arr, feature_names):\n",
    "    for i in range(len(feature_names)):\n",
    "        if \"nano\" in feature_names[i]:\n",
    "            arr[:, i] = 0\n",
    "    return arr"
   ]
  },
  {
   "cell_type": "code",
   "execution_count": 4,
   "id": "b8711e51-46d8-4754-951a-413997c89084",
   "metadata": {},
   "outputs": [],
   "source": [
    "ann_config_path = 'configs/ann.yaml'\n",
    "with open(ann_config_path, \"r\") as f:\n",
    "    config = yaml.safe_load(f)\n",
    "k_fold = config[\"k_fold\"]\n",
    "save_path = config[\"Dataset\"][\"save_path\"]\n",
    "model = build_model(config)\n",
    "model.load()\n",
    "\n",
    "for i in range(k_fold):\n",
    "    xtrain, ytrain, xtest, ytest = model.inputs[i]\n",
    "    feature_names = model.feature_names\n",
    "    pred = model.models[i].predict(xtest)\n",
    "    \n",
    "    xtest_nonano = remove_nano_from_input(copy.deepcopy(xtest), feature_names)\n",
    "    pred_nonano = model.models[i].predict(xtest_nonano)\n",
    "    \n",
    "    fig = plt.figure(figsize=(10,10))\n",
    "    plt.plot(ytest, ytest, \"k--\")\n",
    "    plt.scatter(ytest, pred, marker=\"*\", color='blue')\n",
    "    plt.scatter(ytest, pred_nonano, marker=\"+\", color='red')\n",
    "    \n",
    "    plt.tight_layout()\n",
    "\n",
    "    plt.savefig(f\"{save_path}/wo_nano_scatter_{i}_fold.png\")\n",
    "    plt.close(\"all\")"
   ]
  },
  {
   "cell_type": "code",
   "execution_count": 5,
   "id": "c1ce6e38-83a6-43b1-b98f-994644297445",
   "metadata": {},
   "outputs": [],
   "source": [
    "rf_config_path = 'configs/random_forest.yaml'\n",
    "with open(rf_config_path, \"r\") as f:\n",
    "    config = yaml.safe_load(f)\n",
    "k_fold = config[\"k_fold\"]\n",
    "save_path = config[\"Dataset\"][\"save_path\"]\n",
    "model = build_model(config)\n",
    "model.load()\n",
    "\n",
    "for i in range(k_fold):\n",
    "    xtrain, ytrain, xtest, ytest = model.inputs[i]\n",
    "    feature_names = model.feature_names\n",
    "    pred = model.models[i].predict(xtest)\n",
    "    \n",
    "    xtest_nonano = remove_nano_from_input(copy.deepcopy(xtest), feature_names)\n",
    "    pred_nonano = model.models[i].predict(xtest_nonano)\n",
    "    \n",
    "    fig = plt.figure(figsize=(10,10))\n",
    "    plt.plot(ytest, ytest, \"k--\")\n",
    "    plt.scatter(ytest, pred, marker=\"*\", color='blue')\n",
    "    plt.scatter(ytest, pred_nonano, marker=\"+\", color='red')\n",
    "    \n",
    "    plt.tight_layout()\n",
    "\n",
    "    plt.savefig(f\"{save_path}/wo_nano_scatter_{i}_fold.png\")\n",
    "    plt.close(\"all\")"
   ]
  },
  {
   "cell_type": "code",
   "execution_count": 6,
   "id": "d4737c14-a235-4500-bea0-cd27c6099188",
   "metadata": {},
   "outputs": [],
   "source": [
    "xgb_config_path = 'configs/xgboost.yaml'\n",
    "with open(xgb_config_path, \"r\") as f:\n",
    "    config = yaml.safe_load(f)\n",
    "k_fold = config[\"k_fold\"]\n",
    "save_path = config[\"Dataset\"][\"save_path\"]\n",
    "model = build_model(config)\n",
    "model.load()\n",
    "\n",
    "for i in range(k_fold):\n",
    "    xtrain, ytrain, xtest, ytest = model.inputs[i]\n",
    "    feature_names = model.feature_names\n",
    "    pred = model.models[i].predict(xtest)\n",
    "    \n",
    "    xtest_nonano = remove_nano_from_input(copy.deepcopy(xtest), feature_names)\n",
    "    pred_nonano = model.models[i].predict(xtest_nonano)\n",
    "    \n",
    "    fig = plt.figure(figsize=(10,10))\n",
    "    plt.plot(ytest, ytest, \"k--\")\n",
    "    plt.scatter(ytest, pred, marker=\"*\", color='blue')\n",
    "    plt.scatter(ytest, pred_nonano, marker=\"+\", color='red')\n",
    "    \n",
    "    plt.tight_layout()\n",
    "\n",
    "    plt.savefig(f\"{save_path}/wo_nano_scatter_{i}_fold.png\")\n",
    "    plt.close(\"all\")"
   ]
  },
  {
   "cell_type": "code",
   "execution_count": 7,
   "id": "a8950190-8643-404e-b182-dbf8fa266a3c",
   "metadata": {},
   "outputs": [],
   "source": [
    "ridge_config_path = 'configs/ridge_regression.yaml'\n",
    "with open(ridge_config_path, \"r\") as f:\n",
    "    config = yaml.safe_load(f)\n",
    "k_fold = config[\"k_fold\"]\n",
    "save_path = config[\"Dataset\"][\"save_path\"]\n",
    "model = build_model(config)\n",
    "model.load()\n",
    "\n",
    "for i in range(k_fold):\n",
    "    xtrain, ytrain, xtest, ytest = model.inputs[i]\n",
    "    feature_names = model.feature_names\n",
    "    pred = model.models[i].predict(xtest)\n",
    "    \n",
    "    xtest_nonano = remove_nano_from_input(copy.deepcopy(xtest), feature_names)\n",
    "    pred_nonano = model.models[i].predict(xtest_nonano)\n",
    "    \n",
    "    fig = plt.figure(figsize=(10,10))\n",
    "    plt.plot(ytest, ytest, \"k--\")\n",
    "    plt.scatter(ytest, pred, marker=\"*\", color='blue')\n",
    "    plt.scatter(ytest, pred_nonano, marker=\"+\", color='red')\n",
    "    \n",
    "    plt.tight_layout()\n",
    "\n",
    "    plt.savefig(f\"{save_path}/wo_nano_scatter_{i}_fold.png\")\n",
    "    plt.close(\"all\")"
   ]
  },
  {
   "cell_type": "code",
   "execution_count": null,
   "id": "a8cad4f3-4b7b-4d2a-bd91-ebc408260aef",
   "metadata": {},
   "outputs": [],
   "source": []
  }
 ],
 "metadata": {
  "kernelspec": {
   "display_name": "Python 3 (ipykernel)",
   "language": "python",
   "name": "python3"
  },
  "language_info": {
   "codemirror_mode": {
    "name": "ipython",
    "version": 3
   },
   "file_extension": ".py",
   "mimetype": "text/x-python",
   "name": "python",
   "nbconvert_exporter": "python",
   "pygments_lexer": "ipython3",
   "version": "3.12.4"
  }
 },
 "nbformat": 4,
 "nbformat_minor": 5
}
