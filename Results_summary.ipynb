{
 "cells": [
  {
   "cell_type": "code",
   "execution_count": 30,
   "id": "2b29e3f8",
   "metadata": {},
   "outputs": [],
   "source": [
    "import seaborn as sns\n",
    "import pandas as pd\n",
    "import numpy as np\n",
    "import matplotlib.pyplot as plt"
   ]
  },
  {
   "cell_type": "code",
   "execution_count": 10,
   "id": "40c16f99",
   "metadata": {},
   "outputs": [],
   "source": [
    "# draw box plot\n",
    "ridge_result_path = 'results/ridge_regression/results_summary.csv'\n",
    "rf_result_path = 'results/random_forest_regression/results_summary.csv'\n",
    "svm_result_path = 'results/svm_regression/results_summary.csv'\n",
    "xgb_result_path = 'results/xgboost_regression/results_summary.csv'\n",
    "ann_result_path = 'results/ann_regression/results_summary.csv'\n"
   ]
  },
  {
   "cell_type": "code",
   "execution_count": 11,
   "id": "ea3c51e7",
   "metadata": {},
   "outputs": [],
   "source": [
    "def read_csv(file_path):\n",
    "    df = pd.read_csv(file_path)\n",
    "    return df"
   ]
  },
  {
   "cell_type": "code",
   "execution_count": 12,
   "id": "68585f79",
   "metadata": {},
   "outputs": [],
   "source": [
    "ridge_result_summary = read_csv(ridge_result_path)\n",
    "rf_result_summary = read_csv(rf_result_path)\n",
    "svm_result_summary = read_csv(svm_result_path)\n",
    "xgb_result_summary = read_csv(xgb_result_path)\n",
    "ann_result_summary = read_csv(ann_result_path)"
   ]
  },
  {
   "cell_type": "code",
   "execution_count": 13,
   "id": "341cc0da",
   "metadata": {},
   "outputs": [],
   "source": [
    "colors = sns.color_palette('Set2')"
   ]
  },
  {
   "cell_type": "code",
   "execution_count": 15,
   "id": "f183d178",
   "metadata": {},
   "outputs": [],
   "source": [
    "# RMSE, RMAE, R2, RSR, MAPE, NMBE"
   ]
  },
  {
   "cell_type": "code",
   "execution_count": 22,
   "id": "10a0346e",
   "metadata": {},
   "outputs": [],
   "source": [
    "def summary2df(summary, name='ridge'):\n",
    "    values = summary.to_numpy()\n",
    "    rmse = list(values[:, 1])\n",
    "    rmae = list(values[:, 2])\n",
    "    r2 = list(values[:, 3])\n",
    "    rsr = list(values[:, 4])\n",
    "    mape = list(values[:, 5])\n",
    "    nmbe = list(values[:, 6])\n",
    "    method = [name] * len(rmse)\n",
    "    return method, rmse, rmae, r2, rsr, mape, nmbe\n"
   ]
  },
  {
   "cell_type": "code",
   "execution_count": 23,
   "id": "3307b420",
   "metadata": {},
   "outputs": [],
   "source": [
    "df = pd.DataFrame()\n",
    "methods = []\n",
    "rmses = []\n",
    "rmaes = [] \n",
    "r2s = []\n",
    "rsrs = []\n",
    "mapes = []\n",
    "nmbes = []\n",
    "# ridge\n",
    "method, rmse, rmae, r2, rsr, mape, nmbe = summary2df(ridge_result_summary, name='ridge')\n",
    "methods.extend(method)\n",
    "rmses.extend(rmse)\n",
    "rmaes.extend(rmae)\n",
    "r2s.extend(r2)\n",
    "rsrs.extend(rsr)\n",
    "mapes.extend(mape)\n",
    "nmbes.extend(nmbe)\n",
    "# rf\n",
    "method, rmse, rmae, r2, rsr, mape, nmbe = summary2df(rf_result_summary, name='rf')\n",
    "methods.extend(method)\n",
    "rmses.extend(rmse)\n",
    "rmaes.extend(rmae)\n",
    "r2s.extend(r2)\n",
    "rsrs.extend(rsr)\n",
    "mapes.extend(mape)\n",
    "nmbes.extend(nmbe)\n",
    "# svm\n",
    "method, rmse, rmae, r2, rsr, mape, nmbe = summary2df(svm_result_summary, name='svm')\n",
    "methods.extend(method)\n",
    "rmses.extend(rmse)\n",
    "rmaes.extend(rmae)\n",
    "r2s.extend(r2)\n",
    "rsrs.extend(rsr)\n",
    "mapes.extend(mape)\n",
    "nmbes.extend(nmbe)\n",
    "# xgb\n",
    "method, rmse, rmae, r2, rsr, mape, nmbe = summary2df(xgb_result_summary, name='xgb')\n",
    "methods.extend(method)\n",
    "rmses.extend(rmse)\n",
    "rmaes.extend(rmae)\n",
    "r2s.extend(r2)\n",
    "rsrs.extend(rsr)\n",
    "mapes.extend(mape)\n",
    "nmbes.extend(nmbe)\n",
    "# ann\n",
    "method, rmse, rmae, r2, rsr, mape, nmbe = summary2df(ann_result_summary, name='ann')\n",
    "methods.extend(method)\n",
    "rmses.extend(rmse)\n",
    "rmaes.extend(rmae)\n",
    "r2s.extend(r2)\n",
    "rsrs.extend(rsr)\n",
    "mapes.extend(mape)\n",
    "nmbes.extend(nmbe)"
   ]
  },
  {
   "cell_type": "code",
   "execution_count": 24,
   "id": "09b33059",
   "metadata": {},
   "outputs": [],
   "source": [
    "df[\"method\"] = methods\n",
    "df[\"RMSE\"] = rmses\n",
    "df[\"RMAE\"] = rmaes\n",
    "df[\"R2\"] = r2s\n",
    "df[\"RSR\"] = rsrs\n",
    "df[\"MAPE\"] = mapes\n",
    "df[\"NMBE\"] = nmbes\n"
   ]
  },
  {
   "cell_type": "code",
   "execution_count": 31,
   "id": "733e785f",
   "metadata": {},
   "outputs": [
    {
     "name": "stderr",
     "output_type": "stream",
     "text": [
      "/tmp/ipykernel_32545/2029551449.py:1: FutureWarning: \n",
      "\n",
      "Passing `palette` without assigning `hue` is deprecated and will be removed in v0.14.0. Assign the `x` variable to `hue` and set `legend=False` for the same effect.\n",
      "\n",
      "  sns.boxplot(x=df[\"method\"], y=df[\"RMSE\"], palette=colors[:5])\n"
     ]
    },
    {
     "data": {
      "image/png": "[encoded data removed]",
      "text/plain": [
       "<Figure size 640x480 with 1 Axes>"
      ]
     },
     "metadata": {},
     "output_type": "display_data"
    }
   ],
   "source": [
    "sns.boxplot(x=df[\"method\"], y=df[\"RMSE\"], palette=colors[:5])\n",
    "plt.savefig(\"results/box_plot_rmse.png\")"
   ]
  },
  {
   "cell_type": "code",
   "execution_count": null,
   "id": "d3899789",
   "metadata": {},
   "outputs": [],
   "source": [
    "# RMSE, RMAE, R2, RSR, MAPE, NMBE\n",
    "sns.boxplot(x=df[\"method\"], y=df[\"RMAE\"], palette=colors[:5])\n",
    "plt.savefig(\"results/box_plot_rmae.png\")"
   ]
  }
 ],
 "metadata": {
  "kernelspec": {
   "display_name": "Python 3 (ipykernel)",
   "language": "python",
   "name": "python3"
  },
  "language_info": {
   "codemirror_mode": {
    "name": "ipython",
    "version": 3
   },
   "file_extension": ".py",
   "mimetype": "text/x-python",
   "name": "python",
   "nbconvert_exporter": "python",
   "pygments_lexer": "ipython3",
   "version": "3.11.5"
  }
 },
 "nbformat": 4,
 "nbformat_minor": 5
}
