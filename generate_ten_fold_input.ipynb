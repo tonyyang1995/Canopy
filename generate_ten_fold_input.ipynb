{
 "cells": [
  {
   "cell_type": "code",
   "execution_count": 8,
   "id": "4f1e8194",
   "metadata": {},
   "outputs": [],
   "source": [
    "import importlib\n",
    "import utils.helper as helper\n",
    "importlib.reload(helper)\n",
    "from utils.helper import read_excel\n",
    "from utils.helper import draw_hex_contour_plot, show_joint_plots, draw_heatmap\n",
    "from utils.helper import create_cross_validation\n",
    "import numpy as np"
   ]
  },
  {
   "cell_type": "code",
   "execution_count": 9,
   "id": "e0e136b4",
   "metadata": {},
   "outputs": [],
   "source": [
    "excel_file_path = \"./Data_Collection_V3.xlsx\"\n",
    "sheet_page = \"Sheet1\"\n",
    "label = \"Compressive Strength (Mpa)\"\n",
    "# if the number of color is not 12, will use default color \"#4CB391\"\n",
    "colors = [\"#4CB391\"]\n",
    "save_paths = []"
   ]
  },
  {
   "cell_type": "code",
   "execution_count": 10,
   "id": "f39f5763",
   "metadata": {},
   "outputs": [
    {
     "name": "stdout",
     "output_type": "stream",
     "text": [
      "['Data', 'Cement (kg/m3)', 'Water (kg/m3)', 'Fine Aggregate (kg/m3)', 'Coarse Aggregate (kg/m3)', 'HRWR (kg/m3)', 'Fly ash (kg/m3)', 'Slag (kg/m3)', 'Silica Fume (kg/m3)', 'nano-TiO2 (kg/m3)', 'nano-SiO2 (kg/m3)', 'Concrete Age (days)', 'Curing Temperature (degC)', 'Compressive Strength (Mpa)']\n"
     ]
    }
   ],
   "source": [
    "df = read_excel(excel_file_path, sheet_page)\n",
    "column_names = list(df.columns)\n",
    "print(column_names)"
   ]
  },
  {
   "cell_type": "code",
   "execution_count": 11,
   "id": "717675c6",
   "metadata": {},
   "outputs": [
    {
     "name": "stdout",
     "output_type": "stream",
     "text": [
      "10\n"
     ]
    }
   ],
   "source": [
    "# split the data into 10 parts, use 9 parts as training, the rest 1 part as test\n",
    "ten_fold_inputs = create_cross_validation(df, n_split=10)\n",
    "print(len(ten_fold_inputs))"
   ]
  },
  {
   "cell_type": "code",
   "execution_count": 12,
   "id": "316632c9",
   "metadata": {},
   "outputs": [],
   "source": [
    "import pickle as pkl\n",
    "with open(\"ten_fold_input.pkl\", \"wb\") as f:\n",
    "    pkl.dump(ten_fold_inputs, f)"
   ]
  },
  {
   "cell_type": "code",
   "execution_count": null,
   "id": "bf506027",
   "metadata": {},
   "outputs": [],
   "source": []
  }
 ],
 "metadata": {
  "kernelspec": {
   "display_name": "Python 3 (ipykernel)",
   "language": "python",
   "name": "python3"
  },
  "language_info": {
   "codemirror_mode": {
    "name": "ipython",
    "version": 3
   },
   "file_extension": ".py",
   "mimetype": "text/x-python",
   "name": "python",
   "nbconvert_exporter": "python",
   "pygments_lexer": "ipython3",
   "version": "3.11.5"
  }
 },
 "nbformat": 4,
 "nbformat_minor": 5
}
