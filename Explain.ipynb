{
 "cells": [
  {
   "cell_type": "code",
   "execution_count": 1,
   "id": "860539ff-f321-4401-8c14-789972fdf6d4",
   "metadata": {},
   "outputs": [],
   "source": [
    "import yaml\n",
    "import shap"
   ]
  },
  {
   "cell_type": "code",
   "execution_count": 2,
   "id": "a1aa52d8-e1be-49ac-94d8-e3d21b3f51aa",
   "metadata": {},
   "outputs": [],
   "source": [
    "from utils.helper import * \n",
    "from models.build_model import *"
   ]
  },
  {
   "cell_type": "code",
   "execution_count": 3,
   "id": "b12a98a9-c263-4d02-88d9-d46a8b996157",
   "metadata": {},
   "outputs": [],
   "source": [
    "ann_config_path = 'configs/ann.yaml'\n",
    "with open(ann_config_path, \"r\") as f:\n",
    "    config = yaml.safe_load(f)\n",
    "ann_save_path = config[\"Dataset\"][\"save_path\"]\n",
    "model = build_model(config)\n",
    "analysis_shap_value(config, model)"
   ]
  },
  {
   "cell_type": "code",
   "execution_count": 4,
   "id": "2bde879b-f954-467a-8e8a-e7d9013bee84",
   "metadata": {},
   "outputs": [],
   "source": [
    "ann_config_path = 'configs/random_forest.yaml'\n",
    "with open(ann_config_path, \"r\") as f:\n",
    "    config = yaml.safe_load(f)\n",
    "ann_save_path = config[\"Dataset\"][\"save_path\"]\n",
    "model = build_model(config)\n",
    "analysis_shap_value(config, model)"
   ]
  },
  {
   "cell_type": "code",
   "execution_count": 5,
   "id": "9e13b990-9b77-43e9-a25c-fb8072cd1af2",
   "metadata": {},
   "outputs": [],
   "source": [
    "ann_config_path = 'configs/xgboost.yaml'\n",
    "with open(ann_config_path, \"r\") as f:\n",
    "    config = yaml.safe_load(f)\n",
    "ann_save_path = config[\"Dataset\"][\"save_path\"]\n",
    "model = build_model(config)\n",
    "analysis_shap_value(config, model)"
   ]
  },
  {
   "cell_type": "code",
   "execution_count": 6,
   "id": "6193bb6a-54cf-4b0b-b5fa-b7337506d038",
   "metadata": {},
   "outputs": [],
   "source": [
    "ann_config_path = 'configs/ridge_regression.yaml'\n",
    "with open(ann_config_path, \"r\") as f:\n",
    "    config = yaml.safe_load(f)\n",
    "ann_save_path = config[\"Dataset\"][\"save_path\"]\n",
    "model = build_model(config)\n",
    "analysis_shap_value(config, model)"
   ]
  },
  {
   "cell_type": "code",
   "execution_count": null,
   "id": "9b967a34-15d5-4053-b44d-0219e8d0c094",
   "metadata": {},
   "outputs": [],
   "source": []
  }
 ],
 "metadata": {
  "kernelspec": {
   "display_name": "Python 3 (ipykernel)",
   "language": "python",
   "name": "python3"
  },
  "language_info": {
   "codemirror_mode": {
    "name": "ipython",
    "version": 3
   },
   "file_extension": ".py",
   "mimetype": "text/x-python",
   "name": "python",
   "nbconvert_exporter": "python",
   "pygments_lexer": "ipython3",
   "version": "3.12.4"
  }
 },
 "nbformat": 4,
 "nbformat_minor": 5
}
